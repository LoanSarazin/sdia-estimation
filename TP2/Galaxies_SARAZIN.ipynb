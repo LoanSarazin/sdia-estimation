{
 "cells": [
  {
   "cell_type": "markdown",
   "metadata": {},
   "source": [
    "Loan SARAZIN & Anna MARIZY"
   ]
  },
  {
   "cell_type": "markdown",
   "metadata": {},
   "source": [
    "# Mise en oeuvre de l'algorithme EM"
   ]
  },
  {
   "cell_type": "markdown",
   "metadata": {},
   "source": [
    "## Calcul de la valeur de la densité de probabilité d'un mélange de gaussienne en un point\n",
    "### Les paramétres de la fonction gm_pdf\n",
    "<ul>\n",
    "<li>x : le point où l'on calcule la valeur de la densitè</li>\n",
    "<li>mu : le vecteur des moyennes des gaussiennes</li>\n",
    "<li>sigma : le vecteur des écart-types des gaussiennes</li>\n",
    "<li>p : le vecteur des probabilitès de la loi multinomiale associèe</li>\n",
    "</ul>"
   ]
  },
  {
   "cell_type": "code",
   "execution_count": null,
   "metadata": {},
   "outputs": [],
   "source": [
    "import numpy as np\n",
    "import pandas as pd\n",
    "from scipy.stats import norm\n",
    "from scipy.stats import uniform\n",
    "import matplotlib.pyplot as plt\n",
    "\n",
    "from sklearn.mixture import GaussianMixture"
   ]
  },
  {
   "cell_type": "markdown",
   "metadata": {},
   "source": [
    "GaussianMixture doc : https://scikit-learn.org/stable/modules/generated/sklearn.mixture.GaussianMixture.html?highlight=gaussian%20mixture#sklearn.mixture.GaussianMixture"
   ]
  },
  {
   "cell_type": "code",
   "execution_count": null,
   "metadata": {},
   "outputs": [],
   "source": [
    "def gm_pdf(x, mu, sigma, p):\n",
    "    #Initialisation de la variable de sortie\n",
    "    resultat = 0.0\n",
    "    #Contrôle de la cohérence des paramètres d'entrée\n",
    "    #Le vecteur de moyenne doit avoir la même longueur que le vecteur p\n",
    "    if len(mu) != len(p):\n",
    "        print('Erreur de dimension sur la moyenne')\n",
    "    # Le vecteur des écart-types doit avoir la même longueur que le vecteur p\n",
    "    elif len(sigma) != len(p):\n",
    "            print('Erreur de dimension sur les écarts-types')\n",
    "    else:\n",
    "    # Calcul de la valeur de la densité\n",
    "        for i in range(0, len(p)):\n",
    "            resultat = resultat + p[i] * norm.pdf(x, mu[i], sigma[i])\n",
    "    return resultat"
   ]
  },
  {
   "cell_type": "markdown",
   "metadata": {},
   "source": [
    "## Génération de nombre aléatoire suivant un mélange de gaussienne\n",
    "Dans un mélange de gaussienne chaque densité de probabilité correspondant à une loi normale est pondérée par un coefficient plus petit que un.\n",
    "La somme de tous ces coefficients est égale à un. Une variable aléatoire qui suit une loi normale suit donc une des lois normales du mélange avec une probabilité égale au coefficient de pondération de cette même loi normale. Pour générer un échantillon suivant une loi normale, il faut donc procéder en deux étapes :\n",
    "<ol>\n",
    "<li>Tirer aléatoirement un nombre entre 1 et N (le nombre de gaussiennes du mélange) suivant une loi multinomiale définie par les coefficients du mélange.</li>\n",
    "<li>Une fois ce nombre obtenu, on génère le nombre suivant la loi normale associée.</li>\n",
    "</ol>\n",
    "\n",
    "### Les paramètres de la fonction gm_rnd\n",
    "\n",
    "<ul>\n",
    "<li>mu : le vecteur des moyennes des gaussiennes</li>\n",
    "<li>sigma : le vecteur des écart-types des gaussiennes</li>\n",
    "<li>p : le vecteur des probabilités de la loi multinomiale associée</li>\n",
    "</ul>"
   ]
  },
  {
   "cell_type": "code",
   "execution_count": null,
   "metadata": {},
   "outputs": [],
   "source": [
    "def gm_rnd(mu, sigma, p):\n",
    "    # Initialisation de la variable de sortie\n",
    "    resultat = 0.0\n",
    "    #Contrôle de la cohérence des paramètres d'entrée\n",
    "    #Le vecteur de moyenne doit avoir la même longueur que le vecteur p\n",
    "    if len(mu) != len(p):\n",
    "        print('Erreur de dimension sur la moyenne')\n",
    "    # Le vecteur des écart-types doit avoir la même longueur que le vecteur p\n",
    "    elif len(sigma) != len(p):\n",
    "            print('Erreur de dimension sur sur les écarts-types')\n",
    "    else:\n",
    "    #Génération de l'échantillon\n",
    "    # On échantillonne suivant une loi uniforme sur [0,1]\n",
    "        u = uniform.rvs(loc = 0.0, scale = 1.0, size = 1)\n",
    "    # % Chaque test suivant permet de définir un intervalle sur lequel la\n",
    "    # probabilité d'appartenance de la variable uniforme est égale à l'une des\n",
    "    # probabilités définie dans le vecteur p. Lorsque u appartient à l'un de\n",
    "    # ces intervalles, c'est équivalent à avoir générer une variable aléatoire\n",
    "    # suivant l'un des éléments de p. Par exemple, pour le premier test\n",
    "    # ci-dessous, la probabilité que u appartienne à l'intervalle [0,p[0][ est\n",
    "    # égale à p[0] puisque u suit une loi uniforme. Donc si u appartient à\n",
    "    # [0,p[0][ cela est équivalent à avoir tirer suivant l'événement de probabilité p[0].\n",
    "        if u < p[0]: # On test si on a généré un événement de probabilité p[0]\n",
    "            resultat = sigma[0] * norm.rvs(loc = 0, scale = 1, size = 1) + mu[0]\n",
    "            # Pour générer suivant une loi normale quelconque, il suffit de multiplier\n",
    "            # une variable normale centrée réduite (moyenne nulle et écart-type égal à 1)\n",
    "            # par l'écart-type désité et d'additionner la moyenne désirée au produit précédent.\n",
    "        for i in range(1, len(p)):\n",
    "            if (u > np.sum(p[0:i])) and (u <= np.sum(p[0:i+1])): # On test si on a généré\n",
    "                # un événement de probabilité p[i]\n",
    "                resultat = sigma[i] * norm.rvs(loc = 0.0, scale = 1.0, size = 1) + mu[i]\n",
    "                # Pour générer suivant une loi normale quelconque, il suffit de multiplier\n",
    "                # une variable normale centrée réduite (moyenne nulle et écart-type égal à 1)\n",
    "                # par l'écart-type désité et d'additionner la moyenne désirée au produit précédent.\n",
    "    return resultat"
   ]
  },
  {
   "cell_type": "markdown",
   "metadata": {},
   "source": [
    "### Les paramètres de la densité de mélange de gaussienne"
   ]
  },
  {
   "cell_type": "code",
   "execution_count": null,
   "metadata": {},
   "outputs": [],
   "source": [
    "p = np.array([0.2, 0.5, 0.3])\n",
    "mu = np.array([-5.0, 0.0, 6.0])\n",
    "sigma = np.array([1.0, 0.5, 1.0])"
   ]
  },
  {
   "cell_type": "markdown",
   "metadata": {},
   "source": [
    "### Calcul de la densité de probabilité du mélange de gaussienne"
   ]
  },
  {
   "cell_type": "code",
   "execution_count": null,
   "metadata": {},
   "outputs": [],
   "source": [
    "x = np.arange(-20,20, 0.001)\n",
    "pointPdf = gm_pdf(x, mu, sigma, p)"
   ]
  },
  {
   "cell_type": "markdown",
   "metadata": {},
   "source": [
    "### Tracé de la densité de probabilité du mélange de gaussienne"
   ]
  },
  {
   "cell_type": "code",
   "execution_count": null,
   "metadata": {},
   "outputs": [],
   "source": [
    "plt.plot(x, pointPdf, 'r-')\n",
    "plt.title('Densite de melange')\n",
    "plt.xlabel('x')\n",
    "plt.ylabel('pdf')\n",
    "plt.grid()\n",
    "plt.show()"
   ]
  },
  {
   "cell_type": "markdown",
   "metadata": {},
   "source": [
    "### Génération d'échantillons suivant  densité de probabilité du mélange de gaussienne"
   ]
  },
  {
   "cell_type": "code",
   "execution_count": null,
   "metadata": {},
   "outputs": [],
   "source": [
    "nbEchantillon = 1000\n",
    "donnees = np.array(nbEchantillon*[0],dtype = float)\n",
    "for i in range(0, nbEchantillon, 1):\n",
    "    donnees[i] = gm_rnd(mu, sigma, p)"
   ]
  },
  {
   "cell_type": "markdown",
   "metadata": {},
   "source": [
    "### Tracé des échantillons "
   ]
  },
  {
   "cell_type": "code",
   "execution_count": null,
   "metadata": {},
   "outputs": [],
   "source": [
    "plt.plot(donnees, 'b')\n",
    "plt.title('Melange de gausiennes')\n",
    "plt.xlabel('Index')\n",
    "plt.ylabel('Donnees')\n",
    "plt.grid()\n",
    "plt.show()"
   ]
  },
  {
   "cell_type": "markdown",
   "metadata": {},
   "source": [
    "### Tracé des échantillons"
   ]
  },
  {
   "cell_type": "code",
   "execution_count": null,
   "metadata": {},
   "outputs": [],
   "source": [
    "plt.plot(donnees, 'g.')\n",
    "plt.title('Melange de gausiennes')\n",
    "plt.xlabel('Index')\n",
    "plt.ylabel('Donnees')\n",
    "plt.grid()\n",
    "plt.show()"
   ]
  },
  {
   "cell_type": "markdown",
   "metadata": {},
   "source": [
    "### Tracé de l'histogramme des échantillons"
   ]
  },
  {
   "cell_type": "code",
   "execution_count": null,
   "metadata": {},
   "outputs": [],
   "source": [
    "plt.hist(donnees, bins = 30, density = False, edgecolor = \"red\")\n",
    "plt.title('Melange de gausiennes')\n",
    "plt.xlabel('Donnees')\n",
    "plt.ylabel('Index')\n",
    "plt.show()"
   ]
  },
  {
   "cell_type": "markdown",
   "metadata": {},
   "source": [
    "### Tracé de l'histogramme des échantillons"
   ]
  },
  {
   "cell_type": "code",
   "execution_count": null,
   "metadata": {},
   "outputs": [],
   "source": [
    "plt.hist(donnees, bins = 30, density = True, color = 'yellow', edgecolor = \"red\")\n",
    "plt.title('Melange de gausiennes')\n",
    "plt.xlabel('Donnees')\n",
    "plt.ylabel('Index')\n",
    "plt.show()"
   ]
  },
  {
   "cell_type": "markdown",
   "metadata": {
    "collapsed": true
   },
   "source": [
    "### L'algorithme EM avec une distribution de gaussiennes"
   ]
  },
  {
   "cell_type": "code",
   "execution_count": null,
   "metadata": {},
   "outputs": [],
   "source": [
    "def EM_Algorithm(donnees, nb_it, mu_em, sigma_em, alpha_em):\n",
    "    \"\"\"\n",
    "    EM algorithm\n",
    "    \"\"\"\n",
    "\n",
    "    nbIteration = 1 #Initialisation de la variable d'arrêt\n",
    "    nbComposante = len(alpha_em) #Nombre de composantes du mélange\n",
    "    nbDonnees = len(donnees)  #Nombre de données\n",
    "    p = np.zeros(shape=(nbComposante, nbDonnees))\n",
    "    #Déclaration et initialisation de la matrice qui va contenir les probabilités\n",
    "    #p(k|x,theta_courant)\n",
    "\n",
    "    alpha_em_new = alpha_em\n",
    "    sigma_em_carre_new = sigma_em\n",
    "    mu_em_new = mu_em\n",
    "    donneesP = np.zeros(shape=(nbEchantillon))\n",
    "\n",
    "    while nbIteration < nbMaxIterations:\n",
    "        # Création d'un array avec les lois a posteriori\n",
    "        for n in range(0, nbDonnees):\n",
    "            for k in range(0, nbComposante):\n",
    "                p[k, n] = alpha_em[k] * norm.pdf(x = donnees[n], loc = mu_em[k], scale = sigma_em[k])\n",
    "            p[:, n] = p[:, n] / np.sum(p[:, n])\n",
    "\n",
    "        for k in range(0, nbComposante):\n",
    "            alpha_em_new[k] = np.sum(p[k,:]) / nbDonnees\n",
    "            for n in range(0, nbDonnees):\n",
    "                donneesP[n] = donnees[n] * p[k, n]\n",
    "            mu_em_new[k]  = np.sum(donneesP) / np.sum(p[k, :])\n",
    "            for n in range(nbDonnees):\n",
    "                donneesP[n] = ((donnees[n] - mu_em_new[k]) ** 2) * p[k, n]\n",
    "            sigma_em_carre_new[k] = np.sum(donneesP) / np.sum(p[k, :])\n",
    "        mu_em = mu_em_new\n",
    "        sigma_em = np.sqrt(sigma_em_carre_new)\n",
    "        alpha_em = alpha_em_new\n",
    "        nbIteration = nbIteration + 1\n",
    "    return(mu_em, sigma_em, alpha_em)"
   ]
  },
  {
   "cell_type": "code",
   "execution_count": null,
   "metadata": {},
   "outputs": [],
   "source": [
    "nbMaxIterations = 40\n",
    "mu_em = np.array([-0.0156, -4.9148, 5.9692])\n",
    "sigma_em = np.array([1.3395, 1.3395, 1.3395])\n",
    "alpha_em = np.array([0.4800, 0.2200, 0.3000])\n",
    "\n",
    "mu_em, sigma_em, alpha_em = EM_Algorithm(donnees, nbMaxIterations, mu_em, sigma_em, alpha_em)"
   ]
  },
  {
   "cell_type": "code",
   "execution_count": null,
   "metadata": {},
   "outputs": [],
   "source": [
    "print('Les paramètres estimés sont : ')\n",
    "print('Moyennes des composantes du mélange', mu_em)\n",
    "print('Ecart type des composantes du mélange', sigma_em)\n",
    "print('Probabilités des composantes du mélange', alpha_em)"
   ]
  },
  {
   "cell_type": "code",
   "execution_count": null,
   "metadata": {},
   "outputs": [],
   "source": [
    "print('La somme des probabilités des composantes du mélange vaut : ', np.sum(alpha_em))"
   ]
  },
  {
   "cell_type": "code",
   "execution_count": null,
   "metadata": {},
   "outputs": [],
   "source": [
    "plt.plot(x, pointPdf, 'r-', label = 'Originale')\n",
    "plt.title('Densite de melange')\n",
    "plt.xlabel('x')\n",
    "plt.ylabel('pdf')\n",
    "pointPdfEstime = gm_pdf(x, mu_em, sigma_em, alpha_em)\n",
    "plt.plot(x, pointPdfEstime, 'b-', label = 'Estimée')\n",
    "plt.legend(loc='upper left', shadow=True, fontsize='x-large')\n",
    "plt.show()"
   ]
  },
  {
   "cell_type": "markdown",
   "metadata": {},
   "source": [
    "# Application à l'éloignement de galaxies"
   ]
  },
  {
   "cell_type": "markdown",
   "metadata": {},
   "source": [
    "## Extraction des données à partir du fichier xls"
   ]
  },
  {
   "cell_type": "code",
   "execution_count": null,
   "metadata": {},
   "outputs": [],
   "source": [
    "velocity_pd = pd.read_csv('Galaxy.csv')\n",
    "velocity = np.array(velocity_pd).T[0]\n",
    "\n",
    "nb_vel = velocity.size\n",
    "mu, sigma = np.mean(velocity), np.var(velocity)\n",
    "print(\"La moyenne des vitesses vaut : {:.2f}\".format(mu))\n",
    "print(\"La variance des vitesses vaut : {:.2f}\".format(sigma))\n",
    "\n",
    "vel_min = velocity.min()\n",
    "vel_max = velocity.max()"
   ]
  },
  {
   "cell_type": "markdown",
   "metadata": {},
   "source": [
    "## Tracé de l'histogramme et des courbes de vitesse"
   ]
  },
  {
   "cell_type": "code",
   "execution_count": null,
   "metadata": {},
   "outputs": [],
   "source": [
    "plt.figure()\n",
    "plt.plot(velocity, '.')"
   ]
  },
  {
   "cell_type": "code",
   "execution_count": null,
   "metadata": {},
   "outputs": [],
   "source": [
    "plt.hist(velocity, bins = 40, density = True, edgecolor = \"red\")\n",
    "plt.title('Melange de gausiennes')\n",
    "plt.xlabel('Donnees')\n",
    "plt.ylabel('Vitesses')\n",
    "plt.show()"
   ]
  },
  {
   "cell_type": "markdown",
   "metadata": {},
   "source": [
    "## Choix des gaussiennes"
   ]
  },
  {
   "cell_type": "markdown",
   "metadata": {},
   "source": [
    "### Paramètres des gaussiennes"
   ]
  },
  {
   "cell_type": "code",
   "execution_count": null,
   "metadata": {},
   "outputs": [],
   "source": [
    "x = np.arange(vel_min-100, vel_max+100, 5)"
   ]
  },
  {
   "cell_type": "code",
   "execution_count": null,
   "metadata": {},
   "outputs": [],
   "source": [
    "gm = GaussianMixture(n_components=4, covariance_type='full').fit(velocity.reshape(-1, 1))\n",
    "# la méthode fit de GaussianMixture utilise l'algorithme EM.\n",
    "\n",
    "nbMaxIterations = 40\n",
    "mu_em_mod = np.round(gm.means_.ravel(), 4)\n",
    "sigma_em_mod = np.round(np.sqrt(gm.covariances_.T.ravel()), 4)\n",
    "alpha_em_mod = gm.weights_\n",
    "\n",
    "print('Les paramètres estimés sont : ')\n",
    "print('Moyennes des composantes du mélange', mu_em_mod)\n",
    "print('Ecart type des composantes du mélange', sigma_em_mod)\n",
    "print('Probabilités des composantes du mélange', alpha_em_mod)\n",
    "\n",
    "pointPdf = gm_pdf(x, mu_em_mod, sigma_em_mod, alpha_em_mod)\n",
    "\n",
    "plt.figure\n",
    "plt.hist(velocity, bins = 40, density = True, color='green', edgecolor = \"red\", label = 'Vitesses')\n",
    "plt.plot(x, pointPdf, 'b-', label = 'Estimée')\n",
    "plt.legend(loc='upper left', shadow=True, fontsize='x-large')\n",
    "plt.xlabel('Donnees')\n",
    "plt.ylabel('pdf')\n",
    "plt.title('Melange de gausiennes')\n",
    "plt.show()"
   ]
  }
 ],
 "metadata": {
  "kernelspec": {
   "display_name": "Python 3",
   "language": "python",
   "name": "python3"
  },
  "language_info": {
   "codemirror_mode": {
    "name": "ipython",
    "version": 3
   },
   "file_extension": ".py",
   "mimetype": "text/x-python",
   "name": "python",
   "nbconvert_exporter": "python",
   "pygments_lexer": "ipython3",
   "version": "3.8.8"
  }
 },
 "nbformat": 4,
 "nbformat_minor": 2
}
