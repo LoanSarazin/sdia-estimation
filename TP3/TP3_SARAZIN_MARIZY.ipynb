{
 "cells": [
  {
   "cell_type": "markdown",
   "id": "fb0546e1",
   "metadata": {},
   "source": [
    "Loan SARAZIN & Anna MARIZY"
   ]
  },
  {
   "cell_type": "markdown",
   "id": "f28923e0",
   "metadata": {},
   "source": [
    "# Simulations de Variables Aléatoires"
   ]
  },
  {
   "cell_type": "markdown",
   "id": "1ddda852",
   "metadata": {},
   "source": [
    "## Générateur fondé sur l’inverse généralisée"
   ]
  },
  {
   "cell_type": "code",
   "execution_count": null,
   "id": "6187844c",
   "metadata": {},
   "outputs": [],
   "source": [
    "import time\n",
    "import numpy as np\n",
    "import numpy.linalg as la\n",
    "import matplotlib.pyplot as plt\n",
    "\n",
    "import scipy.stats as ss\n",
    "#from scipy.stats import uniform\n",
    "#from scipy.stats import expon"
   ]
  },
  {
   "cell_type": "code",
   "execution_count": null,
   "id": "0a1dd7b3",
   "metadata": {},
   "outputs": [],
   "source": [
    "def generalized_inverse(invF, n) :\n",
    "    \"\"\"Génère n échantillons selon la densité f = invF en utilisant l'inverse généralisé\n",
    "    \n",
    "    Args:\n",
    "        invF (IDK): Inverse de la fonction de répartition\n",
    "        n (int): Sample size wanted\n",
    "        \n",
    "    Returns:\n",
    "        array: Array of n samples\n",
    "    \"\"\"\n",
    "    u = ss.uniform.rvs(loc=0, scale=1, size=n)\n",
    "    return invF(u)"
   ]
  },
  {
   "cell_type": "markdown",
   "id": "e5952051",
   "metadata": {},
   "source": [
    "Soit $X$ une variable aléatoire suivant une loi exponentielle de paramètre $\\lambda$. Sa fonction de répartition est :\n",
    "$$F(x)=1-\\exp(-\\lambda x)$$\n",
    "L'inverse généralisé de $F$ est :\n",
    "$$F^{-1}(u)=-\\frac{1}{\\lambda}\\ln(1-u)$$"
   ]
  },
  {
   "cell_type": "code",
   "execution_count": null,
   "id": "dbd2e039",
   "metadata": {},
   "outputs": [],
   "source": [
    "def invExp(u, Lambda) :\n",
    "    return -np.log(1-u)/Lambda\n",
    "\n",
    "Lambda = 2\n",
    "nbEchantillon = 10000\n",
    "\n",
    "x = generalized_inverse(lambda x : invExp(x, Lambda), nbEchantillon)"
   ]
  },
  {
   "cell_type": "code",
   "execution_count": null,
   "id": "8729b3ef",
   "metadata": {},
   "outputs": [],
   "source": [
    "t = np.linspace(0, 5, 1000)\n",
    "z = ss.expon.pdf(t, loc=0, scale=1/Lambda)\n",
    "\n",
    "plt.figure(figsize=(10, 8))\n",
    "plt.hist(x, bins=100, density=True, label='Echantillons par inverse généralisé')\n",
    "plt.plot(t, z, label='Probability density function')\n",
    "plt.legend()\n",
    "plt.show()"
   ]
  },
  {
   "cell_type": "markdown",
   "id": "6f55df78",
   "metadata": {},
   "source": [
    "Pour utiliser cet algorithme, il faut connaitre l'inverse généralisé de la fonction de répartition $F$, afin de générer\n",
    "échantillon selon la densité $f(x)=F'(x)$.  \n",
    "En pratique il n'est pas souvent possible d'accéder à cet inverse généralisé."
   ]
  },
  {
   "cell_type": "markdown",
   "id": "e60ff7ef",
   "metadata": {},
   "source": [
    "## Générateur Accept-Reject"
   ]
  },
  {
   "cell_type": "code",
   "execution_count": null,
   "id": "1b2bc0f8",
   "metadata": {},
   "outputs": [],
   "source": [
    "def acceptReject(f, g, M, n) :\n",
    "    \"\"\"\n",
    "    Génère un échantillon de variables aléatoires selon la densité f = invF en utilisant l'inverse généralisé\n",
    "    \n",
    "    Args:\n",
    "        f (function) :\n",
    "        g (funtion) :\n",
    "        M (float) :\n",
    "        n (int): Sample size wanted\n",
    "        \n",
    "    Returns:\n",
    "        array: Array of n samples\n",
    "    \"\"\"\n",
    "    X = []\n",
    "    k = 0\n",
    "    for i in range(n) :\n",
    "        u = ss.uniform.rvs()\n",
    "        x = g.rvs()\n",
    "        while (f.pdf(x)/(M*g.pdf(x))) < u :\n",
    "            u = ss.uniform.rvs(loc=0, scale=1)\n",
    "            x = g.rvs()\n",
    "            k += 1\n",
    "        X.append(x)\n",
    "    print(f\"{k} échantillons ont été rejetés pour échantilloner {n} échantillons\")\n",
    "    return(np.array(X))"
   ]
  },
  {
   "cell_type": "code",
   "execution_count": null,
   "id": "791f60e6",
   "metadata": {},
   "outputs": [],
   "source": [
    "M = 5\n",
    "\n",
    "X100 = acceptReject(ss.norm(loc=0, scale=1), ss.cauchy(loc=0, scale=1), M, 100)\n",
    "X1000 = acceptReject(ss.norm(loc=0, scale=1), ss.cauchy(loc=0, scale=1), M, 1000)"
   ]
  },
  {
   "cell_type": "code",
   "execution_count": null,
   "id": "481e70d8",
   "metadata": {},
   "outputs": [],
   "source": [
    "t = np.linspace(-3, 3, 1000)\n",
    "z = ss.norm.pdf(t, loc=0, scale=1)\n",
    "\n",
    "fig = plt.figure(figsize=(15, 8))\n",
    "ax1 = fig.add_subplot(121)\n",
    "ax1.hist(X100, bins=50, color=\"skyblue\", density=True, label='Echantillons par Accept-Reject')\n",
    "ax1.plot(t, z, color='r', label='Probability density function')\n",
    "ax1.legend()\n",
    "ax1.set_title(f\"100 échantillons, M = {M}\")\n",
    "\n",
    "ax2 = fig.add_subplot(122)\n",
    "ax2.hist(X1000, bins=100, density=True, color=\"skyblue\", label='Echantillons par Accept-Reject')\n",
    "ax2.plot(t, z, color='r', label='Probability density function')\n",
    "ax2.legend()\n",
    "ax2.set_title(f\"1000 échantillons, M = {M}\")\n",
    "plt.show()"
   ]
  },
  {
   "cell_type": "code",
   "execution_count": null,
   "id": "cc35adf5",
   "metadata": {},
   "outputs": [],
   "source": [
    "M = np.sqrt(2*np.pi/np.e)\n",
    "\n",
    "X100 = acceptReject(ss.norm(loc=0, scale=1), ss.cauchy(loc=0, scale=1), M, 100)\n",
    "X1000 = acceptReject(ss.norm(loc=0, scale=1), ss.cauchy(loc=0, scale=1), M, 1000)\n",
    "X10000 = acceptReject(ss.norm(loc=0, scale=1), ss.cauchy(loc=0, scale=1), M, 10000)"
   ]
  },
  {
   "cell_type": "code",
   "execution_count": null,
   "id": "9f673088",
   "metadata": {},
   "outputs": [],
   "source": [
    "t = np.linspace(-5, 5, 1000)\n",
    "z = ss.norm.pdf(t, loc=0, scale=1)\n",
    "\n",
    "fig = plt.figure(figsize=(15, 15))\n",
    "ax1 = fig.add_subplot(221)\n",
    "ax1.hist(X100, bins=50, color=\"skyblue\", density=True, label='Echantillons par Accept-Reject')\n",
    "ax1.plot(t, z, color='r', label='Probability density function')\n",
    "ax1.legend()\n",
    "ax1.set_title(f\"100 échantillons, M = {M:.2f}\")\n",
    "\n",
    "ax2 = fig.add_subplot(222)\n",
    "ax2.hist(X1000, bins=100, density=True, color=\"skyblue\", label='Echantillons par Accept-Reject')\n",
    "ax2.plot(t, z, color='r', label='Probability density function')\n",
    "ax2.legend()\n",
    "ax2.set_title(f\"1000 échantillons, M = {M:.2f}\")\n",
    "\n",
    "ax3 = fig.add_subplot(223)\n",
    "ax3.hist(X10000, bins=100, density=True, color=\"skyblue\", label='Echantillons par Accept-Reject')\n",
    "ax3.plot(t, z, color='r', label='Probability density function')\n",
    "ax3.legend()\n",
    "ax3.set_title(f\"10000 échantillons, M = {M:.2f}\")\n",
    "\n",
    "t = t + 5\n",
    "z = ss.norm.pdf(t, loc=5, scale=1)\n",
    "\n",
    "ax4 = fig.add_subplot(224)\n",
    "ax4.hist(X10000 + 5, bins=100, color=\"skyblue\", density=True, label='Echantillons par Accept-Reject')\n",
    "ax4.plot(t, z, color='r', label='Probability density function')\n",
    "ax4.legend()\n",
    "ax4.set_title(f\"loi normale de moyenne 5 à partir des \\néchantillons précédents\")\n",
    "plt.show()"
   ]
  },
  {
   "cell_type": "markdown",
   "id": "4f56c3e0",
   "metadata": {},
   "source": [
    "La méthode d'accept-reject permet bein d'échantilloner $X $suivant la densité $f(x)$, sachant que l'on connaît\n",
    "une densité g(x) à partir de laquelle on sait échantillonner et qui est telle que :\n",
    "$$f(x)\\leq Mg(x)$$\n",
    "Cependant, si $M$ n'est pas bien choisi, l'algorithme n'est pas optimal puisque $x$ est accepté avec une probabilité $\\frac{1}{M}$. On voit de plus avec les histogrammes tracés ci-dessus qu'un nombre élevé d'échantillon est nécessaire pour que l'ensemble des échantillons approchent la densité de probabilité souhaitée.\n",
    "\n",
    "A partir d'un nombre conséquent d'échantillons suivant une loi normale centrée réduite, obtenus avec la méthode d'accept-reject, il est facile de calculer 10000 échantillons distribués suivant une loi normale de moyenne 5. Cependant, environ "
   ]
  },
  {
   "cell_type": "markdown",
   "id": "db637086",
   "metadata": {},
   "source": [
    "## Méthode de Box-Muller pour des lois normales univariées"
   ]
  },
  {
   "cell_type": "code",
   "execution_count": null,
   "id": "9a9c63b7",
   "metadata": {},
   "outputs": [],
   "source": [
    "def boxMuller(n) :\n",
    "    \"\"\"Génère n échantillons à partir de la loi normale bivariée réduite\n",
    "    \n",
    "    Args:\n",
    "        n (int): Sample size wanted\n",
    "        \n",
    "    Returns:\n",
    "        array: Array of n samples\n",
    "    \"\"\"\n",
    "    Z = []\n",
    "    for i in range(n) :\n",
    "        u1, u2 = ss.uniform.rvs(loc=0, scale=1, size=2)\n",
    "        R, V = -2*np.log(u1), 2*np.pi*u2\n",
    "        z1, z2 = np.sqrt(R)*np.cos(V), np.sqrt(R)*np.sin(V)\n",
    "        Z.append([z1, z2])\n",
    "    return(np.array(Z))"
   ]
  },
  {
   "cell_type": "markdown",
   "id": "b259316f",
   "metadata": {},
   "source": [
    "Lors de l'éxécution de la méthode de Box-Muller, on obtient deux échantillons qui suivent une loi normale univariée. "
   ]
  },
  {
   "cell_type": "code",
   "execution_count": null,
   "id": "b5ad64c1",
   "metadata": {},
   "outputs": [],
   "source": [
    "nbEchantillon = 10000\n",
    "\n",
    "Z = boxMuller(nbEchantillon//2)"
   ]
  },
  {
   "cell_type": "code",
   "execution_count": null,
   "id": "54e34583",
   "metadata": {},
   "outputs": [],
   "source": [
    "t = np.linspace(-5, 5, 1000)\n",
    "z = ss.norm.pdf(t, loc=0, scale=1)\n",
    "\n",
    "fig = plt.figure(figsize=(10, 6))\n",
    "ax1 = fig.add_subplot(111)\n",
    "ax1.hist(np.ravel(Z), bins=50, color=\"skyblue\", density=True, label='Echantillons par Box_Muller')\n",
    "ax1.plot(t, z, color='r', label='Probability density function')\n",
    "ax1.legend()\n",
    "ax1.set_title(f\"Echantillonage de {nbEchantillon} échantillons\")\n",
    "plt.show()"
   ]
  },
  {
   "cell_type": "markdown",
   "id": "ac459159",
   "metadata": {},
   "source": [
    "Avec l'algorithme de Box-Muller, les échantillons obtenues coïcident avec la loi de probabilité cible. Cependant, cette méthode utilise des fonctions triginométriques squi sont coûteuses en temps de calcul pour un couple d'échantillons (cependant ce coût reste négligeable comparé à d'autres algorithmes comme accept-rejet par exemple). "
   ]
  },
  {
   "cell_type": "code",
   "execution_count": null,
   "id": "9449bee5",
   "metadata": {},
   "outputs": [],
   "source": [
    "nbEchantillon = 5000\n",
    "Z = boxMuller(nbEchantillon//2)\n",
    "\n",
    "t = np.linspace(-10, 4, 1000)\n",
    "z = ss.norm.pdf(t, loc=-3, scale=np.sqrt(3))\n",
    "\n",
    "fig = plt.figure(figsize=(10, 6))\n",
    "ax1 = fig.add_subplot(111)\n",
    "ax1.hist(np.ravel(Z*np.sqrt(3)-3), bins=50, color=\"skyblue\", density=True, label='Echantillons par Box_Muller')\n",
    "ax1.plot(t, z, color='r', label='Probability density function')\n",
    "ax1.legend()\n",
    "ax1.set_title(f\"loi normale de moyenne -3 et de variance 3\\nà partir des échantillons précédents\")\n",
    "plt.show()"
   ]
  },
  {
   "cell_type": "markdown",
   "id": "61f8a4a5",
   "metadata": {},
   "source": [
    "## Générer des échantillons d’une loi normale multivariée"
   ]
  },
  {
   "cell_type": "code",
   "execution_count": null,
   "id": "aea8da64",
   "metadata": {},
   "outputs": [],
   "source": [
    "def multivarie(n, mu, sigma) :\n",
    "    Ztot = []\n",
    "    for i in range(n) :\n",
    "        Z = np.reshape(boxMuller(mu.size//2), (mu.size, 1))\n",
    "        A = la.cholesky(sigma)\n",
    "        Ztot.append(mu + A @ Z)\n",
    "    return(np.array(Ztot))"
   ]
  },
  {
   "cell_type": "code",
   "execution_count": null,
   "id": "94025e37",
   "metadata": {},
   "outputs": [],
   "source": [
    "nbEchantillon = 1000\n",
    "mu = np.array([[0], [50], [100], [-50], [-100], [200]])\n",
    "sigma = np.array([[11, 10, 5, 9, 4, 2],\n",
    "                [10, 13, 9, 15, 5, 3],\n",
    "                [5, 9, 15, 11, 3, 1],\n",
    "                [9, 15, 11, 21, 6, 4],\n",
    "                [4, 5, 3, 6, 5, 1],\n",
    "                [2, 3, 1, 4, 1, 1]])\n",
    "\n",
    "Z = multivarie(nbEchantillon, mu, sigma)"
   ]
  },
  {
   "cell_type": "code",
   "execution_count": null,
   "id": "0bc26ca9",
   "metadata": {
    "scrolled": false
   },
   "outputs": [],
   "source": [
    "fig = plt.figure(figsize=(15, 20))\n",
    "for i in range(mu.size) :\n",
    "    t = np.linspace(np.min(Z[:, i]) - sigma[i][i]/5, np.max(Z[:, i]) + sigma[i][i]/5, 1000)\n",
    "    z = ss.norm.pdf(t, loc=mu[i][0], scale=np.sqrt(sigma[i][i]))\n",
    "    \n",
    "    ax = fig.add_subplot(3, 2, i + 1)\n",
    "    ax.hist(np.ravel(Z[:, i]), bins=50, color=\"skyblue\", density=True, label='Echantillons par loi multivariée')\n",
    "    ax.plot(t, z, color='r', label='Probability density function')\n",
    "    ax.legend()\n",
    "    ax.set_title(f\"loi normale de moyenne {mu[i][0]} et de variance {sigma[i][i]}\")\n",
    "plt.show()"
   ]
  },
  {
   "cell_type": "markdown",
   "id": "05656dae",
   "metadata": {},
   "source": [
    "## Echantillonner suivant une loi de Bernouilli"
   ]
  },
  {
   "cell_type": "code",
   "execution_count": null,
   "id": "224c356f",
   "metadata": {},
   "outputs": [],
   "source": [
    "def Binomial(n, p) :\n",
    "    X = []\n",
    "    for i in range(n) :\n",
    "        u = ss.uniform.rvs(loc=0, scale=1)\n",
    "        if u < p :\n",
    "            X.append(0)\n",
    "        else :\n",
    "            X.append(1)\n",
    "    return(np.array(X))"
   ]
  },
  {
   "cell_type": "code",
   "execution_count": null,
   "id": "33569944",
   "metadata": {},
   "outputs": [],
   "source": [
    "nbEchantillon = 1000\n",
    "p = 0.7\n",
    "\n",
    "Z = Binomial(nbEchantillon, 1 - p)"
   ]
  },
  {
   "cell_type": "code",
   "execution_count": null,
   "id": "71a6b4f8",
   "metadata": {},
   "outputs": [],
   "source": [
    "fig = plt.figure(figsize=(10, 6))\n",
    "ax1 = fig.add_subplot(111)\n",
    "ax1.hist(Z, bins=2, color=\"skyblue\", density=False)\n",
    "ax1.set_title(f\"{nbEchantillon} échantillons suivant une loi de Bernouilli de paramètre p = {p}\")\n",
    "plt.show()\n",
    "\n",
    "n0 = (Z.size - np.count_nonzero(Z))/Z.size\n",
    "n1 = (np.count_nonzero(Z))/Z.size\n",
    "print(f\"La fréquence de 0 dans cette série d'échantillons est de {n0}\")\n",
    "print(f\"La fréquence de 1 dans cette série d'échantillons est de {n1}\")"
   ]
  },
  {
   "cell_type": "markdown",
   "id": "0ef943b7",
   "metadata": {},
   "source": [
    "La fréquence de 0 dans l'échantillon généré est proche du paramètre de la loi de Bernoulli cible. Il faut cependant penser à faire attention au seuil utilisé dans l'algorithme. En effet, on veut que $Prob(U>1-p)=p$ pour que $P(X=1)=p)$."
   ]
  },
  {
   "cell_type": "markdown",
   "id": "d00b0cbe",
   "metadata": {},
   "source": [
    "## Algorithme de Metropolis-Hastings"
   ]
  },
  {
   "cell_type": "markdown",
   "id": "272209ec",
   "metadata": {},
   "source": [
    "### Influence du support de la loi de proposition"
   ]
  },
  {
   "cell_type": "code",
   "execution_count": null,
   "id": "e6e6728e",
   "metadata": {},
   "outputs": [],
   "source": [
    "def MH_indep(f, q, nbEchantillon, nbBurn) :\n",
    "    X = np.zeros(nbEchantillon)\n",
    "    x = q.rvs()\n",
    "    for t in range(nbEchantillon + nbBurn) :\n",
    "        y = q.rvs()\n",
    "        rho = min((f(y)*q.pdf(x))/(f(x)*q.pdf(y)), 1)\n",
    "        u = ss.uniform.rvs(loc = 0, scale = 1)\n",
    "        if u < rho :\n",
    "            x = y\n",
    "        if t >= nbBurn :\n",
    "            X[t - nbBurn] = x\n",
    "    return(X)"
   ]
  },
  {
   "cell_type": "code",
   "execution_count": null,
   "id": "195e613b",
   "metadata": {},
   "outputs": [],
   "source": [
    "nbEchantillon = 20000\n",
    "nbBurn = 500\n",
    "q = ss.uniform(loc=-1, scale=2)\n",
    "f = ss.norm(loc=0, scale=1).pdf\n",
    "\n",
    "X = MH_indep(f, q, nbEchantillon, nbBurn)"
   ]
  },
  {
   "cell_type": "code",
   "execution_count": null,
   "id": "4f701661",
   "metadata": {},
   "outputs": [],
   "source": [
    "t = np.linspace(-1.5, 1.5, 1000)\n",
    "z = f(t)\n",
    "\n",
    "fig = plt.figure(figsize=(10, 6))\n",
    "ax1 = fig.add_subplot(111)\n",
    "ax1.hist(X, bins=50, color=\"skyblue\", density=True, label='Echantillons')\n",
    "ax1.plot(t, z, color='r', label='Probability density function')\n",
    "ax1.set_title(f\"Echantillonage de {nbEchantillon} échantillons par Metropolis-Hastings\")\n",
    "ax1.legend()\n",
    "plt.show()"
   ]
  },
  {
   "cell_type": "markdown",
   "id": "aa36b7f9",
   "metadata": {},
   "source": [
    "Comme une variable aléatoire suivant une loi normale centrée réduite prend des valeurs sur $\\mathbb{R}$, et que lorsqu'on utilise loi de proposition une loi uniforme $\\mathcal{U}[-1;1]$ toutes les valeurs possibles sont sur $[-1;1]$."
   ]
  },
  {
   "cell_type": "code",
   "execution_count": null,
   "id": "816c9523",
   "metadata": {},
   "outputs": [],
   "source": [
    "nbEchantillon = 20000\n",
    "nbBurn1, nbBurn2 = 500, 1000\n",
    "q1, q2 = ss.uniform(loc=-5, scale=10), ss.uniform(loc=-20, scale=40)\n",
    "f = ss.norm(loc=0, scale=1).pdf\n",
    "\n",
    "X1 = MH_indep(f, q1, nbEchantillon, nbBurn1)\n",
    "X2 = MH_indep(f, q2, nbEchantillon, nbBurn2)"
   ]
  },
  {
   "cell_type": "code",
   "execution_count": null,
   "id": "8b354bd7",
   "metadata": {},
   "outputs": [],
   "source": [
    "t = np.linspace(-4, 4, 1000)\n",
    "z = f(t)\n",
    "\n",
    "fig = plt.figure(figsize=(15, 6))\n",
    "fig.suptitle(f\"Echantillonage de {nbEchantillon} échantillons\")\n",
    "ax1 = fig.add_subplot(121)\n",
    "ax1.hist(X1, bins=75, color=\"skyblue\", density=True, label='Echantillons')\n",
    "ax1.plot(t, z, color='r', label='Probability density function')\n",
    "ax1.set_title(f\"loi de proposition U[-5; 5], BurnIn = {nbBurn1}\")\n",
    "ax1.legend()\n",
    "\n",
    "ax2 = fig.add_subplot(122)\n",
    "ax2.hist(X2, bins=75, color=\"skyblue\", density=True, label='Echantillons')\n",
    "ax2.plot(t, z, color='r', label='Probability density function')\n",
    "ax2.set_title(f\"loi de proposition U[-20; 20], BurnIn = {nbBurn2}\")\n",
    "ax2.legend()\n",
    "plt.show()"
   ]
  },
  {
   "cell_type": "markdown",
   "id": "dbd902eb",
   "metadata": {},
   "source": [
    "Si on augmente le nombre de BurnIn, on s'assure d'une meilleure convergence vers la loi cible. En revanche, si le nombre de BurnIn reste inchangé mais qu'on utilise une loi uniforme sur un intervalle plus grand, on voit que la 'convergence' est plus lente et que la simulation est moins précise."
   ]
  },
  {
   "cell_type": "markdown",
   "id": "930bdc1f",
   "metadata": {},
   "source": [
    "Avec une loi de proposition prenant ses valeurs sur un intervalle contenant la majorité des valeurs prises par la loi cible, alors la suite d'échantillons obtenue se rapproche d'une suite de variables aléatoires de densité la loi cible."
   ]
  },
  {
   "cell_type": "markdown",
   "id": "6753a8ec",
   "metadata": {},
   "source": [
    "### Echantillonner suivant une loi possédant deux modes"
   ]
  },
  {
   "cell_type": "code",
   "execution_count": null,
   "id": "01d77f9e",
   "metadata": {},
   "outputs": [],
   "source": [
    "mu1, mu2 = 10, -5\n",
    "a1, a2 = 1, 2\n",
    "p = 0.3\n",
    "\n",
    "def f(x) :\n",
    "    return p*ss.laplace(loc=mu1, scale=a1).pdf(x) + (1-p)*ss.laplace(loc=mu2, scale=a2).pdf(x)"
   ]
  },
  {
   "cell_type": "code",
   "execution_count": null,
   "id": "87cddeed",
   "metadata": {},
   "outputs": [],
   "source": [
    "t = np.linspace(-20, 20, 10000)\n",
    "\n",
    "fig = plt.figure(figsize=(10, 6))\n",
    "ax1 = fig.add_subplot(111)\n",
    "ax1.plot(t, f(t))\n",
    "ax1.set_title('Densité de probabilité cible f')\n",
    "plt.show()"
   ]
  },
  {
   "cell_type": "code",
   "execution_count": null,
   "id": "df0087a5",
   "metadata": {},
   "outputs": [],
   "source": [
    "nbEchantillon = 10000\n",
    "nbBurn = 100\n",
    "q = ss.norm(loc=0, scale=10)\n",
    "\n",
    "t = time.time()\n",
    "X = MH_indep(f, q, nbEchantillon, nbBurn)\n",
    "print(f\"Temps d'exécution : {time.time() - t:.4f} s\")"
   ]
  },
  {
   "cell_type": "code",
   "execution_count": null,
   "id": "30fd0fef",
   "metadata": {},
   "outputs": [],
   "source": [
    "t = np.linspace(-20, 20, 10000)\n",
    "\n",
    "fig = plt.figure(figsize=(10, 6))\n",
    "ax1 = fig.add_subplot(111)\n",
    "ax1.plot(t, f(t))\n",
    "ax1.hist(X, bins=75, color=\"skyblue\", density=True, label='Echantillons par Box_Muller')\n",
    "ax1.set_title('Densité de probabilité cible f')\n",
    "ax1.legend()\n",
    "plt.show()"
   ]
  },
  {
   "cell_type": "markdown",
   "id": "1984490c",
   "metadata": {},
   "source": [
    "## Echantillonnage de Monte Carlo parfait"
   ]
  },
  {
   "cell_type": "code",
   "execution_count": null,
   "id": "c6090e1f",
   "metadata": {},
   "outputs": [],
   "source": [
    "def get_part(f, nbPart=100) :\n",
    "    moy = 0\n",
    "    for _ in range(nbPart) :\n",
    "        moy += f.rvs()\n",
    "    return moy/nbPart\n",
    "\n",
    "def echant_monte_carlo(f, nbEchantillon=1000, nbPart=100) :\n",
    "    t = time.time()\n",
    "    Vm = []\n",
    "    for _ in range(nbEchantillon) :\n",
    "        Vm.append(get_part(f, nbPart))\n",
    "    Vm = np.array(Vm)\n",
    "        \n",
    "    fig = plt.figure(figsize=(15, 8))\n",
    "    fig.suptitle(f'Moyennes de {nbEchantillon} échantillons de {nbPart} particules')\n",
    "    ax1 = fig.add_subplot(121)\n",
    "    ax1.plot(Vm, '.', label='Moyenne des échantillons')\n",
    "    ax1.plot([0, nbEchantillon], [f.mean(), f.mean()], 'r-', label='Moyenne cible')\n",
    "    ax1.legend()\n",
    "\n",
    "    ax2 = fig.add_subplot(122)\n",
    "    ax2.hist(Vm, bins=50, color=\"skyblue\", \n",
    "             density=True)\n",
    "    plt.show()\n",
    "    print(f\"Temps d'exécution : {time.time() - t:.4f} s\")\n",
    "    print(f\"La moyenne de tous les échantillons est de {np.mean(Vm):.3f}\")\n",
    "    return Vm, np.mean(Vm)"
   ]
  },
  {
   "cell_type": "code",
   "execution_count": null,
   "id": "23e466c7",
   "metadata": {},
   "outputs": [],
   "source": [
    "f = ss.norm(loc=5, scale=2)\n",
    "\n",
    "Vm1, m = echant_monte_carlo(f, nbEchantillon=1000, nbPart=100)\n",
    "Vm2, m = echant_monte_carlo(f, nbEchantillon=1000, nbPart=1000)"
   ]
  },
  {
   "cell_type": "code",
   "execution_count": null,
   "id": "549395ec",
   "metadata": {},
   "outputs": [],
   "source": [
    "fig = plt.figure(figsize=(10, 8))\n",
    "ax1 = fig.add_subplot(111)\n",
    "ax1.plot(Vm1, '.', color='darkorange', label='1000 échantillons de 100 particules')\n",
    "ax1.plot(Vm2, '.', color='dodgerblue', label='1000 échantillons de 1000 particules')\n",
    "ax1.plot([0, 1000], [5, 5], 'r-', label='Moyenne cible')\n",
    "ax1.legend()\n",
    "plt.show()"
   ]
  },
  {
   "cell_type": "markdown",
   "id": "d84a9785",
   "metadata": {},
   "source": [
    "Plus le nombre de particules est élevé pour calculer la moyenne empirique d'un échantillon, plus celle-ci sera proche de la moyenne cible. Ce résultat est confirmé par la loi forte des grand nombres."
   ]
  }
 ],
 "metadata": {
  "kernelspec": {
   "display_name": "Python 3",
   "language": "python",
   "name": "python3"
  },
  "language_info": {
   "codemirror_mode": {
    "name": "ipython",
    "version": 3
   },
   "file_extension": ".py",
   "mimetype": "text/x-python",
   "name": "python",
   "nbconvert_exporter": "python",
   "pygments_lexer": "ipython3",
   "version": "3.8.8"
  }
 },
 "nbformat": 4,
 "nbformat_minor": 5
}
