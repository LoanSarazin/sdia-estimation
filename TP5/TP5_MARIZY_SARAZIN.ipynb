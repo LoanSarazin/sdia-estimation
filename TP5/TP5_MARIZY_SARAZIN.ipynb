{
 "cells": [
  {
   "cell_type": "markdown",
   "id": "9abc9ef2",
   "metadata": {},
   "source": [
    "# Extended Kalman Filter algorithm\n",
    "\n",
    "Loan Sarazin & Anna Marizy"
   ]
  },
  {
   "cell_type": "code",
   "execution_count": null,
   "id": "aeae2740",
   "metadata": {},
   "outputs": [],
   "source": [
    "import numpy as np\n",
    "import numpy.linalg as la\n",
    "from math import *\n",
    "import matplotlib.pyplot as plt\n",
    "\n",
    "import pandas as pd"
   ]
  },
  {
   "cell_type": "code",
   "execution_count": null,
   "id": "37289c7f",
   "metadata": {},
   "outputs": [],
   "source": [
    "#Importation des données \n",
    "data = pd.read_excel(\"donnee.xlsx\")\n",
    "print(data.head())"
   ]
  },
  {
   "cell_type": "code",
   "execution_count": null,
   "id": "19fd5683",
   "metadata": {},
   "outputs": [],
   "source": [
    "signalReel = np.array(data.loc[:, ('signalReel')])\n",
    "signalBruite = np.array(data.loc[:, ('signalBruite')])\n",
    "\n",
    "Temps = np.array(data.loc[:, ('Temps')])"
   ]
  },
  {
   "cell_type": "code",
   "execution_count": null,
   "id": "0f906b1f",
   "metadata": {
    "scrolled": false
   },
   "outputs": [],
   "source": [
    "N = signalReel.shape[0]\n",
    "X = Temps\n",
    "\n",
    "plt.figure(figsize = (15, 8))\n",
    "plt.plot(X, signalBruite, '.', label = \"Noisy signal\")\n",
    "plt.plot(X, signalReel, '.', label = \"Real signal\")\n",
    "plt.legend()\n",
    "plt.show()"
   ]
  },
  {
   "cell_type": "code",
   "execution_count": null,
   "id": "fabf5260",
   "metadata": {},
   "outputs": [],
   "source": [
    "#restriction au 300 premières valeurs\n",
    "plt.figure(figsize = (15, 8))\n",
    "plt.plot(X[:300], signalBruite[:300], label = \"Noisy signal\", linestyle = \"dashed\")\n",
    "plt.plot(X[:300], signalReel[:300], label = \"Real signal\")\n",
    "plt.legend()\n",
    "plt.xlabel(\"Time\")\n",
    "plt.ylabel(\"Signal values\")\n",
    "plt.title(\"Plot of both the noisy signal and the real signal through the time evolution\")\n",
    "\n",
    "plt.show()"
   ]
  },
  {
   "cell_type": "code",
   "execution_count": null,
   "id": "ae65b6dc",
   "metadata": {},
   "outputs": [],
   "source": [
    "#Implémentation du filtre de Kalman étendu \n",
    "\n",
    "def KalmanF_extended(Z, Q, R, A):\n",
    "    #Initialisation de x0 et P00\n",
    "    x0 = np.random.normal(size = 2)\n",
    "    P00 = np.identity(2)\n",
    "    \n",
    "    k=0\n",
    "    x_evol = []\n",
    "    \n",
    "    nu0 = 12\n",
    "    Te = 1/193.28\n",
    "    \n",
    "    x = x0\n",
    "    P = P00\n",
    "    N = Z.shape[0]\n",
    "    \n",
    "    #Boucle d'estimation/prediction\n",
    "    while (k < N ):\n",
    "        new_x = x.copy().reshape((2, 1))\n",
    "    \n",
    "        newP =  P + Q\n",
    "        \n",
    "        H = np.array([sin(2*pi*nu0*Te*(k+1) + new_x[1, 0]), \n",
    "                      new_x[0, 0]*cos(2*pi*nu0*Te*(k+1) + new_x[1, 0])]).reshape((2, 1))\n",
    "        S = np.array(H.T@newP@H + R)\n",
    "        K = (newP@H /S).reshape((2, 1))\n",
    "        \n",
    "        epsilon = Z[k] - new_x[0]*sin(2*pi*nu0*(k+1)*Te + new_x[1])\n",
    "        x = new_x + epsilon*K\n",
    "        P = newP - K@H.T@newP\n",
    "        \n",
    "        x_evol.append(x)\n",
    "        k += 1\n",
    "    return np.array(x_evol).reshape((len(x_evol), 2))"
   ]
  },
  {
   "cell_type": "code",
   "execution_count": null,
   "id": "78735757",
   "metadata": {
    "scrolled": true
   },
   "outputs": [],
   "source": [
    "Q = np.array([2*10**(-5), 0, 0, 2*10**(-1)])\n",
    "Q = Q.reshape((2, 2))\n",
    "\n",
    "R = 3\n",
    "\n",
    "A = np.eye(2)\n",
    "\n",
    "Q, R, A\n",
    "\n",
    "x_estim = KalmanF_extended(signalBruite, Q, R, A)"
   ]
  },
  {
   "cell_type": "code",
   "execution_count": null,
   "id": "c5feb39d",
   "metadata": {},
   "outputs": [],
   "source": [
    "plt.figure(figsize = (8, 5))\n",
    "iter = np.arange(0, 20000)\n",
    "plt.plot(iter, x_estim[:, 0], 'b.')\n",
    "plt.xlabel(\"Iterations of the EKF algorithm\")\n",
    "plt.ylabel(\"Value of alpha\")\n",
    "plt.title(\"Plot of amplitude alpha along the iterations\")\n",
    "plt.show()"
   ]
  },
  {
   "cell_type": "code",
   "execution_count": null,
   "id": "cc17ad54",
   "metadata": {},
   "outputs": [],
   "source": [
    "plt.figure(figsize = (8, 5))\n",
    "iter = np.arange(0, 20000)\n",
    "plt.plot(iter, x_estim[:, 1], 'b.')\n",
    "plt.xlabel(\"Iterations of the EKF algorithm\")\n",
    "plt.ylabel(\"Value of $\\phi$\")\n",
    "plt.title(\"Plot of the phase $\\phi$ along the iterations\")\n",
    "plt.show()"
   ]
  },
  {
   "cell_type": "code",
   "execution_count": null,
   "id": "ef7910ba",
   "metadata": {},
   "outputs": [],
   "source": [
    "nu0 = 12\n",
    "Te = 1/193.28\n",
    "\n",
    "nmin = 19850\n",
    "nmax = nmin + 150\n",
    "\n",
    "plt.figure(figsize = (10, 8))\n",
    "iter = np.arange(nmin, nmax)\n",
    "plt.plot(iter, x_estim[nmin:nmax, 0]*np.sin(2*pi*nu0*(iter)*Te + x_estim[nmin:nmax, 1]), label = \"Estimated signal\")\n",
    "plt.plot(iter, signalReel[nmin:nmax], label = \"Real signal\")\n",
    "plt.plot(iter, signalBruite[nmin:nmax], 'r.', label = \"Noised signal\")\n",
    "plt.xlabel(\"Time\")\n",
    "plt.ylabel(\"Value of the signal\")\n",
    "plt.title(\"Real and estimated signals (19 000, 20 000)\")\n",
    "plt.legend()\n",
    "plt.show()"
   ]
  },
  {
   "cell_type": "markdown",
   "id": "9e624bac",
   "metadata": {},
   "source": [
    "We can see that we have a quite accurate estimation of the signal. The amplitude alpha is converging to a value close to 5 and the phase $\\phi$ is also close to the real phase. \n",
    "\n",
    "Note that the plot is for the last periods, we can see below that the estimated signal is less accurate at the beginning of the time period. "
   ]
  },
  {
   "cell_type": "code",
   "execution_count": null,
   "id": "b195c9ad",
   "metadata": {},
   "outputs": [],
   "source": [
    "nmin = 0\n",
    "nmax = nmin + 150\n",
    "\n",
    "plt.figure(figsize = (10, 8))\n",
    "iter = np.arange(nmin, nmax)\n",
    "plt.plot(iter, x_estim[nmin:nmax, 0]*np.sin(2*pi*nu0*(iter)*Te + x_estim[nmin:nmax, 1]), label = \"Estimated signal\")\n",
    "plt.plot(iter, signalReel[nmin:nmax], label = \"Real signal\")\n",
    "plt.plot(iter, signalBruite[nmin:nmax], 'r.', label = \"Noised signal\")\n",
    "plt.xlabel(\"Time\")\n",
    "plt.ylabel(\"Value of the signal\")\n",
    "plt.title(\"Real and estimated signals (0, 300)\")\n",
    "plt.legend()\n",
    "plt.show()"
   ]
  },
  {
   "cell_type": "markdown",
   "id": "752a0583",
   "metadata": {},
   "source": [
    "The estimated signal is less accurate over the 100 first time values. We can consider this result as the fact that the algorithm need a kind of \"warming up\" before producing the most accurate values it can provide.\n",
    "\n",
    "We have the same result on the plot of the evolution of $\\alpha$ and $\\phi$ on the previous plots. The value of the real signal is obtained some \"warming up\" time. "
   ]
  },
  {
   "cell_type": "code",
   "execution_count": null,
   "id": "f147540e",
   "metadata": {},
   "outputs": [],
   "source": []
  }
 ],
 "metadata": {
  "kernelspec": {
   "display_name": "Python 3",
   "language": "python",
   "name": "python3"
  },
  "language_info": {
   "codemirror_mode": {
    "name": "ipython",
    "version": 3
   },
   "file_extension": ".py",
   "mimetype": "text/x-python",
   "name": "python",
   "nbconvert_exporter": "python",
   "pygments_lexer": "ipython3",
   "version": "3.8.8"
  }
 },
 "nbformat": 4,
 "nbformat_minor": 5
}
